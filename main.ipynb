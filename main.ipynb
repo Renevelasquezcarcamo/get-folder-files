{
 "cells": [
  {
   "cell_type": "markdown",
   "source": [
    "# Busca Archivos\n",
    "The code is like a virtual librarian. It goes through a folder on your computer named 'main_folder' and writes down the names of all the files and folders inside of it. The information is saved as a .csv file so you can easily keep track of what's inside the 'main_folder' without having to go through it every time."
   ],
   "metadata": {
    "collapsed": false,
    "pycharm": {
     "name": "#%% md\n"
    }
   }
  },
  {
   "cell_type": "code",
   "execution_count": 1,
   "metadata": {
    "collapsed": true,
    "pycharm": {
     "name": "#%%\n"
    }
   },
   "outputs": [],
   "source": [
    "from os import walk\n",
    "import pandas as pd"
   ]
  },
  {
   "cell_type": "code",
   "execution_count": 2,
   "outputs": [],
   "source": [
    "res = []\n",
    "files = []\n",
    "paths = []\n",
    "for (dir_path, dir_names, file_names) in walk('main_folder'):\n",
    "    res.append(file_names)\n",
    "    files.append(dir_names)\n",
    "    paths.append(dir_path)"
   ],
   "metadata": {
    "collapsed": false,
    "pycharm": {
     "name": "#%%\n"
    }
   }
  },
  {
   "cell_type": "code",
   "execution_count": 3,
   "outputs": [
    {
     "name": "stdout",
     "output_type": "stream",
     "text": [
      "El tamaño del dataframe es: 5\n"
     ]
    },
    {
     "data": {
      "text/plain": "                                  path  \\\n0                          main_folder   \n1               main_folder/subfolder3   \n2  main_folder/subfolder3/subsubfolder   \n3               main_folder/subfolder2   \n4               main_folder/subfolder1   \n\n                                                file  \n0                                        [.DS_Store]  \n1  [brown-glass8.jpg, .DS_Store, brown-glass9.jpg...  \n2  [green-glass11.jpg, green-glass6.jpg, green-gl...  \n3  [plastic8.jpg, plastic9.jpg, plastic15.jpg, pl...  \n4  [metal2.jpg, metal3.jpg, metal1.jpg, metal4.jp...  ",
      "text/html": "<div>\n<style scoped>\n    .dataframe tbody tr th:only-of-type {\n        vertical-align: middle;\n    }\n\n    .dataframe tbody tr th {\n        vertical-align: top;\n    }\n\n    .dataframe thead th {\n        text-align: right;\n    }\n</style>\n<table border=\"1\" class=\"dataframe\">\n  <thead>\n    <tr style=\"text-align: right;\">\n      <th></th>\n      <th>path</th>\n      <th>file</th>\n    </tr>\n  </thead>\n  <tbody>\n    <tr>\n      <th>0</th>\n      <td>main_folder</td>\n      <td>[.DS_Store]</td>\n    </tr>\n    <tr>\n      <th>1</th>\n      <td>main_folder/subfolder3</td>\n      <td>[brown-glass8.jpg, .DS_Store, brown-glass9.jpg...</td>\n    </tr>\n    <tr>\n      <th>2</th>\n      <td>main_folder/subfolder3/subsubfolder</td>\n      <td>[green-glass11.jpg, green-glass6.jpg, green-gl...</td>\n    </tr>\n    <tr>\n      <th>3</th>\n      <td>main_folder/subfolder2</td>\n      <td>[plastic8.jpg, plastic9.jpg, plastic15.jpg, pl...</td>\n    </tr>\n    <tr>\n      <th>4</th>\n      <td>main_folder/subfolder1</td>\n      <td>[metal2.jpg, metal3.jpg, metal1.jpg, metal4.jp...</td>\n    </tr>\n  </tbody>\n</table>\n</div>"
     },
     "execution_count": 3,
     "metadata": {},
     "output_type": "execute_result"
    }
   ],
   "source": [
    "df = pd.DataFrame(zip(paths, res), columns = ['path', 'file'])\n",
    "print('El tamaño del dataframe es:', len(df))\n",
    "df.head()"
   ],
   "metadata": {
    "collapsed": false,
    "pycharm": {
     "name": "#%%\n"
    }
   }
  },
  {
   "cell_type": "code",
   "execution_count": 4,
   "outputs": [
    {
     "name": "stdout",
     "output_type": "stream",
     "text": [
      "El tamaño del dataframe es: 66\n"
     ]
    },
    {
     "data": {
      "text/plain": "                     path               file\n0             main_folder          .DS_Store\n1  main_folder/subfolder3   brown-glass8.jpg\n1  main_folder/subfolder3          .DS_Store\n1  main_folder/subfolder3   brown-glass9.jpg\n1  main_folder/subfolder3  brown-glass16.jpg",
      "text/html": "<div>\n<style scoped>\n    .dataframe tbody tr th:only-of-type {\n        vertical-align: middle;\n    }\n\n    .dataframe tbody tr th {\n        vertical-align: top;\n    }\n\n    .dataframe thead th {\n        text-align: right;\n    }\n</style>\n<table border=\"1\" class=\"dataframe\">\n  <thead>\n    <tr style=\"text-align: right;\">\n      <th></th>\n      <th>path</th>\n      <th>file</th>\n    </tr>\n  </thead>\n  <tbody>\n    <tr>\n      <th>0</th>\n      <td>main_folder</td>\n      <td>.DS_Store</td>\n    </tr>\n    <tr>\n      <th>1</th>\n      <td>main_folder/subfolder3</td>\n      <td>brown-glass8.jpg</td>\n    </tr>\n    <tr>\n      <th>1</th>\n      <td>main_folder/subfolder3</td>\n      <td>.DS_Store</td>\n    </tr>\n    <tr>\n      <th>1</th>\n      <td>main_folder/subfolder3</td>\n      <td>brown-glass9.jpg</td>\n    </tr>\n    <tr>\n      <th>1</th>\n      <td>main_folder/subfolder3</td>\n      <td>brown-glass16.jpg</td>\n    </tr>\n  </tbody>\n</table>\n</div>"
     },
     "execution_count": 4,
     "metadata": {},
     "output_type": "execute_result"
    }
   ],
   "source": [
    "df = df.explode('file')\n",
    "print('El tamaño del dataframe es:', len(df))\n",
    "df.head()"
   ],
   "metadata": {
    "collapsed": false,
    "pycharm": {
     "name": "#%%\n"
    }
   }
  },
  {
   "cell_type": "code",
   "execution_count": 5,
   "outputs": [],
   "source": [
    "df.to_csv('filesnpath.csv', encoding = 'utf-8-sig', index = False)"
   ],
   "metadata": {
    "collapsed": false,
    "pycharm": {
     "name": "#%%\n"
    }
   }
  }
 ],
 "metadata": {
  "kernelspec": {
   "display_name": "Python 3",
   "language": "python",
   "name": "python3"
  },
  "language_info": {
   "codemirror_mode": {
    "name": "ipython",
    "version": 2
   },
   "file_extension": ".py",
   "mimetype": "text/x-python",
   "name": "python",
   "nbconvert_exporter": "python",
   "pygments_lexer": "ipython2",
   "version": "2.7.6"
  }
 },
 "nbformat": 4,
 "nbformat_minor": 0
}